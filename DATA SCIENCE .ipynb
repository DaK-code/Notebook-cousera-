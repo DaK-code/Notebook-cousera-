{
 "cells": [
  {
   "cell_type": "markdown",
   "id": "bb2cbb4f-c9d2-4d56-960f-917dbee14416",
   "metadata": {},
   "source": [
    "# Data Science Exercises Notebook"
   ]
  },
  {
   "cell_type": "markdown",
   "id": "6545f921-06ec-47f0-9164-e6f6c57b40f3",
   "metadata": {},
   "source": [
    "## Introduction  \n",
    "Welcome to this Data Science Exercises Notebook. This notebook will guide you through various foundational exercises related to data science."
   ]
  },
  {
   "cell_type": "markdown",
   "id": "0d3663f2-3ddd-4d05-b9c6-cf4106144dfe",
   "metadata": {},
   "source": [
    "## Data Science Languages  \n",
    "Here are some popular programming languages used in data science:  \n",
    "- Python  \n",
    "- R  \n",
    "- Julia  \n",
    "- SQL  \n",
    "- Java  "
   ]
  },
  {
   "cell_type": "markdown",
   "id": "005eecc1-48d0-462b-86b6-a13b7d5071ca",
   "metadata": {},
   "source": [
    "## Data Science Libraries  \n",
    "Common libraries used in data science include:  \n",
    "- Pandas  \n",
    "- NumPy  \n",
    "- Matplotlib  \n",
    "- Scikit-learn"
   ]
  },
  {
   "cell_type": "markdown",
   "id": "3b891772-e909-43cf-8726-5bbcd1ab3545",
   "metadata": {},
   "source": [
    "## Data Science Tools  \n",
    "\n",
    "| Tool                 | Purpose                               |  \n",
    "|----------------------|---------------------------------------|  \n",
    "| Jupyter Notebooks    | Interactive coding and visualization |  \n",
    "| RStudio              | R programming IDE                    |  \n",
    "| Apache Spark         | Big data processing                  |  \n",
    "| Tableau              | Data visualization and BI            |    "
   ]
  },
  {
   "cell_type": "markdown",
   "id": "e9601ee2-2f89-4024-9a1c-37a8260710b2",
   "metadata": {},
   "source": [
    "## Arithmetic Expressions  \n",
    "Arithmetic expressions allow us to perform mathematical operations."
   ]
  },
  {
   "cell_type": "markdown",
   "id": "7d145486-bb9e-4bb8-80c0-2880abc44a72",
   "metadata": {},
   "source": [
    "# Multiply and add numbers\n",
    "result = (50 * 2) + 10"
   ]
  },
  {
   "cell_type": "markdown",
   "id": "fa2b488b-891e-48be-a210-13f17953db34",
   "metadata": {},
   "source": [
    "# Convert minutes to hours\n",
    "minutes = 120 <br>\n",
    "hours = minutes / 60 <br>\n",
    "hours =  2 hours"
   ]
  },
  {
   "cell_type": "markdown",
   "id": "aebc79e7-073e-49f7-840d-8bc1884d4e69",
   "metadata": {},
   "source": [
    "## Objectives  \n",
    "By the end of this notebook, i should be able to:  \n",
    "- Understand basic data science concepts.  \n",
    "- Familiarize yourself with popular tools and libraries.  \n",
    "- Perform basic arithmetic operations in code."
   ]
  },
  {
   "cell_type": "markdown",
   "id": "6b9f1b8a-7276-426c-8fa1-d20dad8357f7",
   "metadata": {},
   "source": [
    "## Author  \n",
    "This notebook was created by Darius Kodjo Gavi"
   ]
  },
  {
   "cell_type": "code",
   "execution_count": null,
   "id": "bb44bc54-2eb2-4a26-a752-7172f1531826",
   "metadata": {},
   "outputs": [],
   "source": []
  }
 ],
 "metadata": {
  "kernelspec": {
   "display_name": "Python 3 (ipykernel)",
   "language": "python",
   "name": "python3"
  },
  "language_info": {
   "codemirror_mode": {
    "name": "ipython",
    "version": 3
   },
   "file_extension": ".py",
   "mimetype": "text/x-python",
   "name": "python",
   "nbconvert_exporter": "python",
   "pygments_lexer": "ipython3",
   "version": "3.12.7"
  }
 },
 "nbformat": 4,
 "nbformat_minor": 5
}
